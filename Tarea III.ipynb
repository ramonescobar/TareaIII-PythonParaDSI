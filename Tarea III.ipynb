{
 "cells": [
  {
   "cell_type": "markdown",
   "metadata": {},
   "source": [
    "# Hoja de Trabajo III"
   ]
  },
  {
   "cell_type": "code",
   "execution_count": 6,
   "metadata": {},
   "outputs": [],
   "source": [
    "class my_regression():\n",
    "    def __init__(self, xr, yr):\n",
    "        self.x = xr\n",
    "        self.y = yr\n",
    "        self.b0 = (len(self.x)*sum([self.x[i]*self.y[i] for i in range(0, len(self.x))]) - sum(self.x)*sum(self.y))/(len(self.x)*sum([i**2 for i in self.x]) - sum(self.x)**2)\n",
    "        self.b1 = (sum([i**2 for i in self.x])*sum(self.y) - sum(self.x)*sum([self.y[i]*self.x[i] for i in range(0,len(self.y))]))/(len(self.x)*sum([i**2 for i in self.x]) - sum(self.x)**2)\n",
    "\n",
    "        \n",
    "    def Predict(self, val):\n",
    "        self.val = val\n",
    "        self.prediction = self.b0*self.val + self.b1\n",
    "        return self.prediction\n",
    "    \n",
    "    def PredictN(self, vals):\n",
    "        self.vals = vals\n",
    "        self.predictionN = [self.b0*i+self.b1 for i in self.vals]\n",
    "        return self.predictionN\n",
    "    \n",
    "    def r2(self):\n",
    "        self.mean_y = sum(self.y)/len(self.y)\n",
    "        self.r2 = sum([(i - self.mean_y)**2 for i in self.predictionN])/sum([(self.y[i] - self.predictionN[i] )**2 for i in range(0, len(y))])\n",
    "        return self.r2\n",
    "       \n",
    "    \n",
    "    def r(self):\n",
    "        self.r = self.r2**(1/2)\n",
    "        return self.r\n",
    "    \n",
    "    def getAllParams(self):\n",
    "        return {'b0': self.b0, 'b1':self.b1, 'r2': self.r2, 'r': self.r }\n",
    "    \n",
    "    @classmethod\n",
    "    def from_file(cls, path):\n",
    "        x = []\n",
    "        y = []\n",
    "        with open(path) as csv:\n",
    "            for line in csv:\n",
    "                y.append(line.split(',')[0].replace('\\n',''))\n",
    "                x.append(line.split(',')[1].replace('\\n',''))\n",
    "                \n",
    "                yr = [float(i) for i in y if i !='Y']\n",
    "                xr = [float(i) for i in x if i !='X']\n",
    "        \n",
    "        return cls(xr, yr)        "
   ]
  },
  {
   "cell_type": "markdown",
   "metadata": {},
   "source": [
    "## Prueba de Regresión"
   ]
  },
  {
   "cell_type": "code",
   "execution_count": 4,
   "metadata": {},
   "outputs": [
    {
     "name": "stdout",
     "output_type": "stream",
     "text": [
      "10.0\n",
      "0.0\n",
      "40.0\n",
      "[20.0, 40.0, 30.0]\n",
      "1.0\n",
      "1.0\n",
      "{'b0': 10.0, 'b1': 0.0, 'r2': 1.0, 'r': 1.0}\n"
     ]
    }
   ],
   "source": [
    "x = [1,2,3]\n",
    "y =[10,20,30]\n",
    "mi_prueba = my_regression(x,y)\n",
    "\n",
    "print(mi_prueba.b0)\n",
    "print(mi_prueba.b1)\n",
    "print(mi_prueba.Predict(4))\n",
    "print(mi_prueba.PredictN([2,4,3]))\n",
    "print(mi_prueba.r2())\n",
    "print(mi_prueba.r())\n",
    "print(mi_prueba.getAllParams())"
   ]
  },
  {
   "cell_type": "code",
   "execution_count": 5,
   "metadata": {},
   "outputs": [
    {
     "name": "stdout",
     "output_type": "stream",
     "text": [
      "0.04753664043301965\n",
      "7.0325935491277205\n",
      "7.2227401108597995\n",
      "[7.08013018956074, 7.12766682999376, 7.175203470426779]\n",
      "0.5922308776787386\n",
      "0.7695653823287133\n",
      "{'b0': 0.04753664043301965, 'b1': 7.0325935491277205, 'r2': 0.5922308776787386, 'r': 0.7695653823287133}\n"
     ]
    }
   ],
   "source": [
    "mi_prueba2 = my_regression.from_file('Advertising.csv')\n",
    "\n",
    "print(mi_prueba2.b0)\n",
    "print(mi_prueba2.b1)\n",
    "print(mi_prueba2.Predict(4))\n",
    "print(mi_prueba2.PredictN([1,2,3]))\n",
    "print(mi_prueba2.r2())\n",
    "print(mi_prueba2.r())\n",
    "print(mi_prueba2.getAllParams())"
   ]
  }
 ],
 "metadata": {
  "kernelspec": {
   "display_name": "Python 3",
   "language": "python",
   "name": "python3"
  },
  "language_info": {
   "codemirror_mode": {
    "name": "ipython",
    "version": 3
   },
   "file_extension": ".py",
   "mimetype": "text/x-python",
   "name": "python",
   "nbconvert_exporter": "python",
   "pygments_lexer": "ipython3",
   "version": "3.8.5"
  }
 },
 "nbformat": 4,
 "nbformat_minor": 4
}
