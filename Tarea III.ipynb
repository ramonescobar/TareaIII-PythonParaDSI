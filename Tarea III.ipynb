{
 "cells": [
  {
   "cell_type": "markdown",
   "metadata": {},
   "source": [
    "# Hoja de Trabajo III"
   ]
  },
  {
   "cell_type": "code",
   "execution_count": 74,
   "metadata": {},
   "outputs": [],
   "source": [
    "class my_regression():\n",
    "    def __init__(self, xr, yr):\n",
    "        self.x = xr\n",
    "        self.y = yr\n",
    "        self.b0 = (len(self.x)*sum([self.x[i]*self.y[i] for i in range(0, len(self.x))]) - sum(self.x)*sum(self.y))/(len(self.x)*sum([i**2 for i in self.x]) - sum(self.x)**2)\n",
    "        self.b1 = (sum([i**2 for i in self.x])*sum(self.y) - sum(self.x)*sum([self.y[i]*self.x[i] for i in range(0,len(self.y))]))/(len(self.x)*sum([i**2 for i in self.x]) - sum(self.x)**2)\n",
    "        \n",
    "    def Predict(self, val):\n",
    "        self.val = val\n",
    "        return self.b0*self.val + self.b1\n",
    "    \n",
    "    def PredictN(self, vals):\n",
    "        self.vals = vals\n",
    "        return [self.b*self.vals[i]+self.b1]"
   ]
  },
  {
   "cell_type": "code",
   "execution_count": 75,
   "metadata": {},
   "outputs": [],
   "source": [
    "x = [1,2,3]\n",
    "y =[2,4,6]\n",
    "mi_prueba = my_regression(x,y)"
   ]
  },
  {
   "cell_type": "code",
   "execution_count": 76,
   "metadata": {},
   "outputs": [
    {
     "name": "stdout",
     "output_type": "stream",
     "text": [
      "2.0\n",
      "0.0\n",
      "8.0\n"
     ]
    }
   ],
   "source": [
    "print(mi_prueba.b0)\n",
    "print(mi_prueba.b1)\n",
    "print(mi_prueba.Predict(4))"
   ]
  }
 ],
 "metadata": {
  "kernelspec": {
   "display_name": "Python 3",
   "language": "python",
   "name": "python3"
  },
  "language_info": {
   "codemirror_mode": {
    "name": "ipython",
    "version": 3
   },
   "file_extension": ".py",
   "mimetype": "text/x-python",
   "name": "python",
   "nbconvert_exporter": "python",
   "pygments_lexer": "ipython3",
   "version": "3.8.5"
  }
 },
 "nbformat": 4,
 "nbformat_minor": 4
}
